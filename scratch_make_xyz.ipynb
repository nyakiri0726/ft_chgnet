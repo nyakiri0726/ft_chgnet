{
 "cells": [
  {
   "cell_type": "code",
   "execution_count": 12,
   "metadata": {},
   "outputs": [
    {
     "name": "stdout",
     "output_type": "stream",
     "text": [
      "Atoms(symbols='C32H107NO30', pbc=True, cell=[10.0, 10.0, 10.0])\n"
     ]
    },
    {
     "data": {
      "text/plain": [
       "<Popen: returncode: None args: ['/home/kazuki/project/sample_chgnet/.venv/bi...>"
      ]
     },
     "execution_count": 12,
     "metadata": {},
     "output_type": "execute_result"
    }
   ],
   "source": [
    "from ase import Atoms\n",
    "from ase.build import molecule\n",
    "import numpy as np\n",
    "from scipy.spatial.transform import Rotation\n",
    "from ase.visualize import view\n",
    "\n",
    "def validate_positive_integer(value, name):\n",
    "    \"\"\"\n",
    "    正の整数であることを検証する関数。\n",
    "    \"\"\"\n",
    "    if not isinstance(value, int) or value <= 0:\n",
    "        raise ValueError(f\"{name} must be a positive integer.\")\n",
    "\n",
    "def validate_non_negative(value, name):\n",
    "    \"\"\"\n",
    "    非負であることを検証する関数。\n",
    "    \"\"\"\n",
    "    if value < 0:\n",
    "        raise ValueError(f\"{name} must be non-negative.\")\n",
    "\n",
    "def validate_atoms_object(obj, name):\n",
    "    \"\"\"\n",
    "    ASEのAtomsオブジェクトであることを検証する関数。\n",
    "    \"\"\"\n",
    "    if not isinstance(obj, Atoms):\n",
    "        raise TypeError(f\"{name} must be an ASE Atoms object.\")\n",
    "\n",
    "class RandomMoleculeStructure:\n",
    "    def __init__(self, molecule_templates, num_molecules_per_type, cell_size, max_attempts=10000, overlap_threshold=2.0):\n",
    "        self.molecule_templates = molecule_templates\n",
    "        self.num_molecules_per_type = num_molecules_per_type\n",
    "        self.cell_size = cell_size\n",
    "        self.max_attempts = max_attempts\n",
    "        self.overlap_threshold = overlap_threshold\n",
    "        self.positions = np.empty((0, 3))\n",
    "        \n",
    "        # 入力の検証\n",
    "        validate_positive_integer(max_attempts, \"max_attempts\")\n",
    "        validate_non_negative(overlap_threshold, \"overlap_threshold\")\n",
    "\n",
    "        for num, name in zip(num_molecules_per_type, [\"num_molecules_per_type[{}]\".format(i) for i in range(len(num_molecules_per_type))]):\n",
    "            validate_positive_integer(num, name)\n",
    "\n",
    "        if len(cell_size) != 3 or not all(isinstance(x, (int, float)) and x >= 0 for x in cell_size):\n",
    "            raise ValueError(\"cell_size must be a list/tuple of three non-negative numbers.\")\n",
    "        \n",
    "        \n",
    "\n",
    "    def random_rotation_matrix(self):\n",
    "        \"\"\"\n",
    "        ランダムな回転行列を生成する。\n",
    "        \"\"\"\n",
    "        random_rotation = Rotation.from_rotvec(np.random.rand(3) * 2 * np.pi)\n",
    "        return random_rotation.as_matrix()\n",
    "\n",
    "    def check_overlap(self, new_pos):\n",
    "        \"\"\"\n",
    "        分子同士の重なりをチェックし、新しい位置が重なる場合はTrueを返す。\n",
    "        \"\"\"\n",
    "        if self.positions.size == 0:\n",
    "            return False\n",
    "        dists = np.linalg.norm(self.positions - new_pos, axis=1)\n",
    "        return np.any(dists < self.overlap_threshold)\n",
    "\n",
    "    def generate_structure(self):\n",
    "        \"\"\"\n",
    "        分子をランダムな向きに回転させて配置する。一定回数以上の試行で適切な配置が見つからない場合はエラーを返す。\n",
    "        \"\"\"\n",
    "        for mol_index, mol_template in enumerate(self.molecule_templates):\n",
    "            num_molecules = self.num_molecules_per_type[mol_index]\n",
    "            if num_molecules == 1:  # Place at the center\n",
    "                self.positions = np.vstack([self.positions, np.array([self.cell_size[0] / 2, self.cell_size[1] / 2, 0.0])])\n",
    "            else:\n",
    "                attempts = 0\n",
    "                while len(self.positions) < sum(self.num_molecules_per_type[:mol_index + 1]):\n",
    "                    new_pos = np.random.rand(3) * self.cell_size\n",
    "                    if not self.check_overlap(new_pos):\n",
    "                        self.positions = np.vstack([self.positions, new_pos])\n",
    "                    else:\n",
    "                        attempts += 1\n",
    "                        if attempts >= self.max_attempts:\n",
    "                            raise RuntimeError(\"Failed to find non-overlapping configuration after {} attempts.\".format(self.max_attempts))\n",
    "\n",
    "        large_structure = Atoms(cell=self.cell_size)\n",
    "        for i, pos in enumerate(self.positions):\n",
    "            mol_index = 0\n",
    "            while i >= sum(self.num_molecules_per_type[:mol_index + 1]):\n",
    "                mol_index += 1\n",
    "            mol_template = self.molecule_templates[mol_index]\n",
    "            mol = mol_template.copy()\n",
    "            self.rotation_matrix = self.random_rotation_matrix()\n",
    "            mol.positions = np.dot(mol.positions, self.rotation_matrix.T)\n",
    "            mol.translate(pos)\n",
    "            large_structure += mol\n",
    "\n",
    "        large_structure.set_pbc([True, True, True])\n",
    "        return large_structure\n",
    "\n",
    "# 使用例\n",
    "num_molecules_per_type = [10, 10, 20,1]\n",
    "cell_size = [10, 10, 10]\n",
    "water_molecule = molecule('H2O')\n",
    "carbon_dioxide_molecule = molecule('CO2')\n",
    "methane_molecule = molecule('CH4')\n",
    "\n",
    "molecule_templates = [water_molecule, carbon_dioxide_molecule, methane_molecule,molecule(\"CH3CH2NH2\")]\n",
    "random_structure = RandomMoleculeStructure(molecule_templates, num_molecules_per_type, cell_size)\n",
    "structure = random_structure.generate_structure()\n",
    "print(structure)\n",
    "view(structure)"
   ]
  },
  {
   "cell_type": "code",
   "execution_count": 20,
   "metadata": {},
   "outputs": [
    {
     "name": "stdout",
     "output_type": "stream",
     "text": [
      "[27.71858582  0.          0.        ]\n"
     ]
    }
   ],
   "source": [
    "from ase.build import (\n",
    "    fcc100, fcc110, fcc111, fcc211, fcc111_root,\n",
    "    bcc100, bcc110, bcc111, bcc111_root,\n",
    "    hcp0001, hcp10m10, hcp0001_root,\n",
    "    diamond100, diamond111\n",
    ")\n",
    "\n",
    "pt100_atoms = fcc100(\"Pt\", size=(10, 10, 5), vacuum=2.0)\n",
    "# view(pt100_atoms)\n",
    "print(pt100_atoms.cell[0])"
   ]
  },
  {
   "cell_type": "code",
   "execution_count": 21,
   "metadata": {},
   "outputs": [
    {
     "name": "stdout",
     "output_type": "stream",
     "text": [
      "Atoms(symbols='C402H1207NO600', pbc=True, cell=[27.71858582251266, 27.71858582251266, 30.0])\n"
     ]
    }
   ],
   "source": [
    "num_molecules_per_type = [200, 200, 200,1]\n",
    "cell_size = [pt100_atoms.cell[0][0], pt100_atoms.cell[1][1], 30]\n",
    "water_molecule = molecule('H2O')\n",
    "carbon_dioxide_molecule = molecule('CO2')\n",
    "methane_molecule = molecule('CH4')\n",
    "\n",
    "molecule_templates = [water_molecule, carbon_dioxide_molecule, methane_molecule,molecule(\"CH3CH2NH2\")]\n",
    "\n",
    "random_structure = RandomMoleculeStructure(molecule_templates, num_molecules_per_type, cell_size)\n",
    "structure = random_structure.generate_structure()\n",
    "print(structure)\n",
    "# view(structure)"
   ]
  },
  {
   "cell_type": "code",
   "execution_count": 23,
   "metadata": {},
   "outputs": [
    {
     "name": "stdout",
     "output_type": "stream",
     "text": [
      "2710\n"
     ]
    },
    {
     "name": "stderr",
     "output_type": "stream",
     "text": [
      "/home/kazuki/project/sample_chgnet/.venv/lib/python3.12/site-packages/ase/io/extxyz.py:302: UserWarning: Skipping unhashable information adsorbate_info\n",
      "  warnings.warn('Skipping unhashable information '\n"
     ]
    }
   ],
   "source": [
    "from ase.io import read, write\n",
    "slab_cell = pt100_atoms.get_cell()\n",
    "# structure.translate(slab_cell[0] / 2 + slab_cell[1] / 2+ slab_cell[2] / 2)\n",
    "slab_center = np.mean(pt100_atoms.positions, axis=0)+structure.cell[2]/2+slab_cell[2] / 2+3\n",
    "structure.translate(slab_center - np.mean(structure.positions, axis=0))\n",
    "merged=pt100_atoms+structure\n",
    "merged.set_cell((slab_cell[0], slab_cell[1], slab_cell[2]+structure.cell[2]+[0,0,40]))\n",
    "merged.wrap()\n",
    "view(merged)\n",
    "print(len(merged))\n",
    "write(\"sample.xyz\", merged)"
   ]
  },
  {
   "cell_type": "code",
   "execution_count": 16,
   "metadata": {},
   "outputs": [
    {
     "data": {
      "text/plain": [
       "array([12.70150504, 15.47336362, 22.        ])"
      ]
     },
     "execution_count": 16,
     "metadata": {},
     "output_type": "execute_result"
    }
   ],
   "source": [
    "slab_center"
   ]
  },
  {
   "cell_type": "code",
   "execution_count": null,
   "metadata": {},
   "outputs": [],
   "source": []
  }
 ],
 "metadata": {
  "kernelspec": {
   "display_name": ".venv",
   "language": "python",
   "name": "python3"
  },
  "language_info": {
   "codemirror_mode": {
    "name": "ipython",
    "version": 3
   },
   "file_extension": ".py",
   "mimetype": "text/x-python",
   "name": "python",
   "nbconvert_exporter": "python",
   "pygments_lexer": "ipython3",
   "version": "3.12.2"
  }
 },
 "nbformat": 4,
 "nbformat_minor": 2
}
