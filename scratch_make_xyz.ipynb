{
 "cells": [
  {
   "cell_type": "code",
   "execution_count": 26,
   "metadata": {},
   "outputs": [
    {
     "name": "stdout",
     "output_type": "stream",
     "text": [
      "Atoms(symbols='C330H1800O760', pbc=True, cell=[100.0, 100.0, 100.0])\n"
     ]
    }
   ],
   "source": [
    "from ase import Atoms\n",
    "from ase.build import molecule\n",
    "import numpy as np\n",
    "from scipy.spatial.transform import Rotation\n",
    "from ase.visualize import view\n",
    "\n",
    "class RandomMoleculeStructure:\n",
    "    def __init__(self, molecule_templates, num_molecules_per_type, cell_size, overlap_threshold=2.0):\n",
    "        self.molecule_templates = molecule_templates\n",
    "        self.num_molecules_per_type = num_molecules_per_type\n",
    "        self.cell_size = cell_size\n",
    "        self.overlap_threshold = overlap_threshold\n",
    "        self.positions = np.empty((0, 3))\n",
    "        \n",
    "\n",
    "    def random_rotation_matrix(self):\n",
    "        \"\"\"\n",
    "        ランダムな回転行列を生成する。\n",
    "        \"\"\"\n",
    "        random_rotation = Rotation.from_rotvec(np.random.rand(3) * 2 * np.pi)\n",
    "        return random_rotation.as_matrix()\n",
    "\n",
    "    def check_overlap(self, new_pos):\n",
    "        \"\"\"\n",
    "        分子同士の重なりをチェックし、新しい位置が重なる場合はTrueを返す。\n",
    "        \"\"\"\n",
    "        dists = np.linalg.norm(self.positions - new_pos, axis=1)\n",
    "        return np.any(dists < self.overlap_threshold)\n",
    "\n",
    "    def generate_structure(self):\n",
    "        \"\"\"\n",
    "        分子をランダムな向きに回転させて配置する。\n",
    "        \"\"\"\n",
    "        for mol_index, mol_template in enumerate(self.molecule_templates):\n",
    "            while len(self.positions) < sum(self.num_molecules_per_type[:mol_index + 1]):\n",
    "                new_pos = np.random.rand(3) * self.cell_size\n",
    "                if not self.check_overlap(new_pos):\n",
    "                    self.positions = np.vstack([self.positions, new_pos])\n",
    "\n",
    "        large_structure = Atoms(cell=self.cell_size)\n",
    "        for i, pos in enumerate(self.positions):\n",
    "            mol_index = 0\n",
    "            while i >= sum(self.num_molecules_per_type[:mol_index + 1]):\n",
    "                mol_index += 1\n",
    "            mol_template = self.molecule_templates[mol_index]\n",
    "            mol = mol_template.copy()\n",
    "            self.rotation_matrix = self.random_rotation_matrix()\n",
    "            mol.positions = np.dot(mol.positions, self.rotation_matrix.T)\n",
    "            mol.translate(pos)\n",
    "            large_structure += mol\n",
    "\n",
    "        large_structure.set_pbc([True, True, True])\n",
    "        return large_structure\n",
    "\n",
    "# 使用例\n",
    "num_molecules_per_type = [500, 130, 200]\n",
    "cell_size = [100, 100, 100]\n",
    "water_molecule = molecule('H2O')\n",
    "carbon_dioxide_molecule = molecule('CO2')\n",
    "methane_molecule = molecule('CH4')\n",
    "\n",
    "molecule_templates = [water_molecule, carbon_dioxide_molecule, methane_molecule]\n",
    "\n",
    "random_structure = RandomMoleculeStructure(molecule_templates, num_molecules_per_type, cell_size)\n",
    "structure = random_structure.generate_structure()\n",
    "print(structure)\n",
    "# view(structure)"
   ]
  },
  {
   "cell_type": "code",
   "execution_count": 27,
   "metadata": {},
   "outputs": [
    {
     "name": "stdout",
     "output_type": "stream",
     "text": [
      "[27.71858582  0.          0.        ]\n"
     ]
    }
   ],
   "source": [
    "from ase.build import (\n",
    "    fcc100, fcc110, fcc111, fcc211, fcc111_root,\n",
    "    bcc100, bcc110, bcc111, bcc111_root,\n",
    "    hcp0001, hcp10m10, hcp0001_root,\n",
    "    diamond100, diamond111\n",
    ")\n",
    "\n",
    "pt100_atoms = fcc100(\"Pt\", size=(10, 10, 5), vacuum=0.0)\n",
    "# view(pt100_atoms)\n",
    "print(pt100_atoms.cell[0])"
   ]
  },
  {
   "cell_type": "code",
   "execution_count": 28,
   "metadata": {},
   "outputs": [
    {
     "name": "stdout",
     "output_type": "stream",
     "text": [
      "Atoms(symbols='C400H1200O600', pbc=True, cell=[27.71858582251266, 27.71858582251266, 30.0])\n"
     ]
    }
   ],
   "source": [
    "num_molecules_per_type = [200, 200, 200]\n",
    "cell_size = [pt100_atoms.cell[0][0], pt100_atoms.cell[1][1], 30]\n",
    "water_molecule = molecule('H2O')\n",
    "carbon_dioxide_molecule = molecule('CO2')\n",
    "methane_molecule = molecule('CH4')\n",
    "\n",
    "molecule_templates = [water_molecule, carbon_dioxide_molecule, methane_molecule]\n",
    "\n",
    "random_structure = RandomMoleculeStructure(molecule_templates, num_molecules_per_type, cell_size)\n",
    "structure = random_structure.generate_structure()\n",
    "print(structure)\n",
    "# view(structure)"
   ]
  },
  {
   "cell_type": "code",
   "execution_count": 34,
   "metadata": {},
   "outputs": [
    {
     "name": "stdout",
     "output_type": "stream",
     "text": [
      "2700\n"
     ]
    }
   ],
   "source": [
    "slab_cell = pt100_atoms.get_cell()\n",
    "# structure.translate(slab_cell[0] / 2 + slab_cell[1] / 2+ slab_cell[2] / 2)\n",
    "slab_center = np.mean(pt100_atoms.positions, axis=0)+structure.cell[2]/2+slab_cell[2] / 2+3\n",
    "structure.translate(slab_center - np.mean(structure.positions, axis=0))\n",
    "merged=pt100_atoms+structure\n",
    "merged.set_cell((slab_cell[0], slab_cell[1], slab_cell[2]+structure.cell[2]+[0,0,40]))\n",
    "merged.wrap()\n",
    "view(merged)\n",
    "print(len(merged))"
   ]
  },
  {
   "cell_type": "code",
   "execution_count": 30,
   "metadata": {},
   "outputs": [
    {
     "data": {
      "text/plain": [
       "array([16.02773534, 16.02773534, 25.84      ])"
      ]
     },
     "execution_count": 30,
     "metadata": {},
     "output_type": "execute_result"
    }
   ],
   "source": [
    "slab_center"
   ]
  },
  {
   "cell_type": "code",
   "execution_count": null,
   "metadata": {},
   "outputs": [],
   "source": []
  }
 ],
 "metadata": {
  "kernelspec": {
   "display_name": ".venv",
   "language": "python",
   "name": "python3"
  },
  "language_info": {
   "codemirror_mode": {
    "name": "ipython",
    "version": 3
   },
   "file_extension": ".py",
   "mimetype": "text/x-python",
   "name": "python",
   "nbconvert_exporter": "python",
   "pygments_lexer": "ipython3",
   "version": "3.12.2"
  }
 },
 "nbformat": 4,
 "nbformat_minor": 2
}
