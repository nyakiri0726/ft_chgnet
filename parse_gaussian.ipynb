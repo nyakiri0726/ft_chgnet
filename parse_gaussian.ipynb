{
 "cells": [
  {
   "cell_type": "code",
   "execution_count": 2,
   "metadata": {},
   "outputs": [],
   "source": [
    "import os\n",
    "from pymatgen.core.structure import Structure\n",
    "from pymatgen.core.lattice import Lattice\n",
    "from pymatgen.core.periodic_table import Element\n"
   ]
  },
  {
   "cell_type": "code",
   "execution_count": 3,
   "metadata": {},
   "outputs": [],
   "source": [
    "def convert_mol_to_structure(atomic_numbers,coords,lattice_size=20):\n",
    "    # 原子番号を元素のシンボルに変換\n",
    "    symbols = [Element.from_Z(z).symbol for z in atomic_numbers]\n",
    "    # 単位格子の定義。サイズはモルキュールのサイズに応じて選ぶ。\n",
    "    lattice = Lattice.cubic(lattice_size)\n",
    "    structure=Structure(lattice,symbols,coords)\n",
    "    return structure"
   ]
  },
  {
   "cell_type": "code",
   "execution_count": 37,
   "metadata": {},
   "outputs": [
    {
     "name": "stderr",
     "output_type": "stream",
     "text": [
      "/home/kazuki/project/sample_chgnet/.venv/lib/python3.12/site-packages/pymatgen/io/gaussian.py:796: UserWarning: POP=regular case, matrix coefficients not complete\n",
      "  warnings.warn(\"POP=regular case, matrix coefficients not complete\")\n"
     ]
    }
   ],
   "source": [
    "from pathlib import Path\n",
    "from pymatgen.io.gaussian import GaussianOutput\n",
    "\n",
    "path=Path(\"./data\").absolute()\n",
    "files=os.listdir(path)\n",
    "gouts=[]\n",
    "for file in files:\n",
    "    if \"log\" in file:\n",
    "        # print(file)\n",
    "        gout=GaussianOutput(path/Path(file))\n",
    "        gouts.append(gout)\n",
    "        \n",
    "# print(vars(gout))\n",
    "structures=[]\n",
    "energies=[]\n",
    "forces=[]\n",
    "for gout in gouts:\n",
    "    molecule=gout.final_structure\n",
    "    lattice = Lattice.cubic(20)\n",
    "    structures.append(Structure(lattice, molecule.species, molecule.cart_coords))\n",
    "    energies.append(gout.final_energy/len(gout.final_structure))\n",
    "    # print(gout.cart_forces)\n",
    "    try:\n",
    "        forces.append([list(group) for group in zip(*[iter(gout.cart_forces[0])]*3)])\n",
    "    except Exception:\n",
    "        forces.append(None)\n",
    "    # forces.append(gout.)"
   ]
  },
  {
   "cell_type": "code",
   "execution_count": 40,
   "metadata": {},
   "outputs": [
    {
     "name": "stdout",
     "output_type": "stream",
     "text": [
      "25\n",
      "[-19.0194470343, -24.988914215266664, -25.000760709151, -19.115413314450002, -56.5026990515, -25.005894546333334, -24.988783232566664, -25.000760709151, -25.005792667666668, -19.1147139573, -24.989100692799997, -24.989079028033334, -25.005894546333334, -25.000760709151, -24.99713075716667, -19.1040696204, -24.947798931740742, -24.7595136664, -19.1040696204, -25.000760709151333, -24.947798931740742, -25.000760709151333, -19.104069636, -24.863440164966665, -33.78560559583333]\n"
     ]
    }
   ],
   "source": [
    "print(len(structures))\n",
    "print(energies)"
   ]
  },
  {
   "cell_type": "code",
   "execution_count": 6,
   "metadata": {},
   "outputs": [
    {
     "name": "stdout",
     "output_type": "stream",
     "text": [
      "/home/kazuki/project/sample_chgnet/data\n"
     ]
    }
   ],
   "source": [
    "from pathlib import Path\n",
    "path=Path(\"./data\").absolute()\n",
    "print(path)"
   ]
  },
  {
   "cell_type": "code",
   "execution_count": 25,
   "metadata": {},
   "outputs": [
    {
     "name": "stdout",
     "output_type": "stream",
     "text": [
      "[[-1.3085e-05, 0.0, -5.0816e-05, -2.6877e-05, -0.0, 6.3404e-05, 2.864e-05, 0.0, -1.3605e-05, 1.3085e-05, -0.0, 5.0816e-05, 2.6877e-05, 0.0, -6.3404e-05, 1.6108e-05, 0.0, -1.222e-05, -2.6786e-05, -0.0, -1.4943e-05, -1.6108e-05, -0.0, 1.222e-05, -4.0018e-05, -0.0, -6.123e-05, 1.4442e-05, 0.0, 1.0994e-05, 1.6427e-05, 0.0, -4.679e-06, 1.4567e-05, 0.0, 2.3479e-05, -6.144e-06, -0.0, 6.888e-06, 4.0018e-05, 0.0, 6.123e-05, -1.4567e-05, -0.0, -2.3479e-05, -1.4442e-05, -0.0, -1.0994e-05, -1.6427e-05, -0.0, 4.679e-06, 6.144e-06, 0.0, -6.888e-06, -2.864e-05, -0.0, 1.3605e-05, 2.6786e-05, 0.0, 1.4943e-05]]\n",
      "60\n",
      "{'has_gaussian_completed': True, 'nsites': 20, 'unit_cell_formula': {'C': 10.0, 'H': 10.0}, 'reduced_cell_formula': {'H': 1.0, 'C': 1.0}, 'pretty_formula': 'HC', 'is_pcm': False, 'errors': [], 'Mulliken_charges': {1: ['C', -0.004506], 2: ['C', -0.077162], 3: ['C', -0.076608], 4: ['C', -0.004506], 5: ['C', -0.077162], 6: ['H', 0.079219], 7: ['H', 0.077691], 8: ['H', 0.079219], 9: ['C', -0.076381], 10: ['C', -0.154817], 11: ['H', 0.076331], 12: ['H', 0.076887], 13: ['H', 0.079346], 14: ['C', -0.076381], 15: ['H', 0.076887], 16: ['C', -0.154817], 17: ['H', 0.076331], 18: ['H', 0.079346], 19: ['C', -0.076608], 20: ['H', 0.077691]}, 'elements': ['C', 'H'], 'nelements': 2, 'charge': 0, 'spin_multiplicity': 1, 'input': {'route': {'freq': 'raman'}, 'functional': 'rb3lyp', 'basis_set': 'sto-3g', 'nbasisfunctions': 60, 'pcm_parameters': None}, 'output': {'energies': [-382.308266561], 'final_energy': -382.308266561, 'final_energy_per_atom': -19.11541332805, 'molecule': {'@module': 'pymatgen.core.structure', '@class': 'Molecule', 'charge': 0.0, 'spin_multiplicity': 1, 'sites': [{'name': 'C', 'species': [{'element': 'C', 'occu': 1}], 'xyz': [0.269481, -1.410087, 0.0], 'properties': {}, 'label': 'C'}, {'name': 'C', 'species': [{'element': 'C', 'occu': 1}], 'xyz': [-1.064752, -0.9207, 0.0], 'properties': {}, 'label': 'C'}, {'name': 'C', 'species': [{'element': 'C', 'occu': 1}], 'xyz': [-1.325434, 0.457029, -0.0], 'properties': {}, 'label': 'C'}, {'name': 'C', 'species': [{'element': 'C', 'occu': 1}], 'xyz': [-0.269481, 1.410087, 0.0], 'properties': {}, 'label': 'C'}, {'name': 'C', 'species': [{'element': 'C', 'occu': 1}], 'xyz': [1.064752, 0.9207, 0.0], 'properties': {}, 'label': 'C'}, {'name': 'H', 'species': [{'element': 'H', 'occu': 1}], 'xyz': [-1.904434, -1.627596, 0.0], 'properties': {}, 'label': 'H'}, {'name': 'H', 'species': [{'element': 'H', 'occu': 1}], 'xyz': [-2.364772, 0.813167, -0.0], 'properties': {}, 'label': 'H'}, {'name': 'H', 'species': [{'element': 'H', 'occu': 1}], 'xyz': [1.904434, 1.627596, 0.0], 'properties': {}, 'label': 'H'}, {'name': 'C', 'species': [{'element': 'C', 'occu': 1}], 'xyz': [-0.603732, 2.869917, -0.0], 'properties': {}, 'label': 'C'}, {'name': 'C', 'species': [{'element': 'C', 'occu': 1}], 'xyz': [0.269481, 3.891952, -0.0], 'properties': {}, 'label': 'C'}, {'name': 'H', 'species': [{'element': 'H', 'occu': 1}], 'xyz': [1.355166, 3.742014, -0.0], 'properties': {}, 'label': 'H'}, {'name': 'H', 'species': [{'element': 'H', 'occu': 1}], 'xyz': [-1.681904, 3.090005, -0.0], 'properties': {}, 'label': 'H'}, {'name': 'H', 'species': [{'element': 'H', 'occu': 1}], 'xyz': [-0.074029, 4.932969, -0.0], 'properties': {}, 'label': 'H'}, {'name': 'C', 'species': [{'element': 'C', 'occu': 1}], 'xyz': [0.603732, -2.869917, -0.0], 'properties': {}, 'label': 'C'}, {'name': 'H', 'species': [{'element': 'H', 'occu': 1}], 'xyz': [1.681904, -3.090005, -0.0], 'properties': {}, 'label': 'H'}, {'name': 'C', 'species': [{'element': 'C', 'occu': 1}], 'xyz': [-0.269481, -3.891952, -0.0], 'properties': {}, 'label': 'C'}, {'name': 'H', 'species': [{'element': 'H', 'occu': 1}], 'xyz': [-1.355166, -3.742014, -0.0], 'properties': {}, 'label': 'H'}, {'name': 'H', 'species': [{'element': 'H', 'occu': 1}], 'xyz': [0.074029, -4.932969, -0.0], 'properties': {}, 'label': 'H'}, {'name': 'C', 'species': [{'element': 'C', 'occu': 1}], 'xyz': [1.325434, -0.457029, 0.0], 'properties': {}, 'label': 'C'}, {'name': 'H', 'species': [{'element': 'H', 'occu': 1}], 'xyz': [2.364772, -0.813167, 0.0], 'properties': {}, 'label': 'H'}], 'properties': {}}, 'stationary_type': 'Minimum', 'corrections': {'Zero-point': 0.177131, 'Energy': 0.186015, 'Enthalpy': 0.18696, 'Gibbs Free Energy': 0.143348}}, '@module': 'pymatgen.io.gaussian', '@class': 'GaussianOutput'}\n"
     ]
    }
   ],
   "source": [
    "gaussian_output=GaussianOutput(\"/home/kazuki/project/sample_chgnet/data/dvb_raman.out\")\n",
    "# `read_table_pattern` を使用して力のデータを抽出\n",
    "forces = gaussian_output.cart_forces\n",
    "print(forces)\n",
    "print(len(forces[0]))\n",
    "print(gaussian_output.as_dict())\n",
    "# print(path/Path(file))\n",
    "# print(vars(gaussian_output))"
   ]
  },
  {
   "cell_type": "code",
   "execution_count": 33,
   "metadata": {},
   "outputs": [
    {
     "name": "stdout",
     "output_type": "stream",
     "text": [
      "[[-1.3085e-05, 0.0, -5.0816e-05], [-2.6877e-05, -0.0, 6.3404e-05], [2.864e-05, 0.0, -1.3605e-05], [1.3085e-05, -0.0, 5.0816e-05], [2.6877e-05, 0.0, -6.3404e-05], [1.6108e-05, 0.0, -1.222e-05], [-2.6786e-05, -0.0, -1.4943e-05], [-1.6108e-05, -0.0, 1.222e-05], [-4.0018e-05, -0.0, -6.123e-05], [1.4442e-05, 0.0, 1.0994e-05], [1.6427e-05, 0.0, -4.679e-06], [1.4567e-05, 0.0, 2.3479e-05], [-6.144e-06, -0.0, 6.888e-06], [4.0018e-05, 0.0, 6.123e-05], [-1.4567e-05, -0.0, -2.3479e-05], [-1.4442e-05, -0.0, -1.0994e-05], [-1.6427e-05, -0.0, 4.679e-06], [6.144e-06, 0.0, -6.888e-06], [-2.864e-05, -0.0, 1.3605e-05], [2.6786e-05, 0.0, 1.4943e-05]]\n",
      "20\n"
     ]
    }
   ],
   "source": [
    "i=0\n",
    "a=[]\n",
    "b=[]\n",
    "for x in forces[0]:\n",
    "    a.append(x)\n",
    "    i+=1\n",
    "    if i==3:\n",
    "        b.append(a)\n",
    "        a=[]\n",
    "        i=0\n",
    "print(b)\n",
    "print(len(b))\n",
    "    "
   ]
  },
  {
   "cell_type": "code",
   "execution_count": 34,
   "metadata": {},
   "outputs": [
    {
     "name": "stdout",
     "output_type": "stream",
     "text": [
      "[[-1.3085e-05, 0.0, -5.0816e-05], [-2.6877e-05, -0.0, 6.3404e-05], [2.864e-05, 0.0, -1.3605e-05], [1.3085e-05, -0.0, 5.0816e-05], [2.6877e-05, 0.0, -6.3404e-05], [1.6108e-05, 0.0, -1.222e-05], [-2.6786e-05, -0.0, -1.4943e-05], [-1.6108e-05, -0.0, 1.222e-05], [-4.0018e-05, -0.0, -6.123e-05], [1.4442e-05, 0.0, 1.0994e-05], [1.6427e-05, 0.0, -4.679e-06], [1.4567e-05, 0.0, 2.3479e-05], [-6.144e-06, -0.0, 6.888e-06], [4.0018e-05, 0.0, 6.123e-05], [-1.4567e-05, -0.0, -2.3479e-05], [-1.4442e-05, -0.0, -1.0994e-05], [-1.6427e-05, -0.0, 4.679e-06], [6.144e-06, 0.0, -6.888e-06], [-2.864e-05, -0.0, 1.3605e-05], [2.6786e-05, 0.0, 1.4943e-05]]\n"
     ]
    }
   ],
   "source": [
    "# `forces[0]` の各要素を3つずつグループ化し `b` リストに追加\n",
    "b = [list(group) for group in zip(*[iter(forces[0])]*3)]\n",
    "print(b)"
   ]
  },
  {
   "cell_type": "code",
   "execution_count": null,
   "metadata": {},
   "outputs": [],
   "source": []
  }
 ],
 "metadata": {
  "kernelspec": {
   "display_name": ".venv",
   "language": "python",
   "name": "python3"
  },
  "language_info": {
   "codemirror_mode": {
    "name": "ipython",
    "version": 3
   },
   "file_extension": ".py",
   "mimetype": "text/x-python",
   "name": "python",
   "nbconvert_exporter": "python",
   "pygments_lexer": "ipython3",
   "version": "3.12.2"
  }
 },
 "nbformat": 4,
 "nbformat_minor": 2
}
