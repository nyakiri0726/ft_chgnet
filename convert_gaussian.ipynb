{
 "cells": [
  {
   "cell_type": "code",
   "execution_count": 1,
   "metadata": {},
   "outputs": [],
   "source": [
    "from pymatgen.core.structure import Structure\n",
    "from pymatgen.core.lattice import Lattice\n",
    "from pymatgen.core.periodic_table import Element\n"
   ]
  },
  {
   "cell_type": "code",
   "execution_count": 4,
   "metadata": {},
   "outputs": [],
   "source": [
    "def convert_mol_to_structure(atomic_numbers,coords,lattice_size=20):\n",
    "    # 原子番号を元素のシンボルに変換\n",
    "    symbols = [Element.from_Z(z).symbol for z in atomic_numbers]\n",
    "    # 単位格子の定義。サイズはモルキュールのサイズに応じて選ぶ。\n",
    "    lattice = Lattice.cubic(lattice_size)\n",
    "    structure=Structure(lattice,symbols,coords)\n",
    "    return structure\n",
    "    "
   ]
  },
  {
   "cell_type": "code",
   "execution_count": 5,
   "metadata": {},
   "outputs": [
    {
     "name": "stdout",
     "output_type": "stream",
     "text": [
      "Full Formula (H1 C1 O1)\n",
      "Reduced Formula: HCO\n",
      "abc   :  20.000000  20.000000  20.000000\n",
      "angles:  90.000000  90.000000  90.000000\n",
      "pbc   :       True       True       True\n",
      "Sites (3)\n",
      "  #  SP      a    b    c\n",
      "---  ----  ---  ---  ---\n",
      "  0  H       0    0    0\n",
      "  1  C       1    0    0\n",
      "  2  O       0    1    0\n"
     ]
    }
   ],
   "source": [
    "# 与えられた原子番号と座標（例）\n",
    "atomic_numbers = [1, 6, 8]  # H, C, O の原子番号\n",
    "coords = [[0, 0, 0], [1, 0, 0], [0, 1, 0]]  # 座標のリスト\n",
    "\n",
    "structure=convert_mol_to_structure(atomic_numbers,coords)\n",
    "# # 原子番号を元素のシンボルに変換\n",
    "# symbols = [Element.from_Z(z).symbol for z in atomic_numbers]\n",
    "# # 単位格子の定義。サイズはモルキュールのサイズに応じて選ぶ。\n",
    "# lattice = Lattice.cubic(10)\n",
    "\n",
    "# # Structureオブジェクトの生成\n",
    "# structure = Structure(lattice, symbols, coords)\n",
    "\n",
    "# 結果を確認\n",
    "print(structure)\n"
   ]
  },
  {
   "cell_type": "code",
   "execution_count": null,
   "metadata": {},
   "outputs": [],
   "source": []
  }
 ],
 "metadata": {
  "kernelspec": {
   "display_name": ".venv",
   "language": "python",
   "name": "python3"
  },
  "language_info": {
   "codemirror_mode": {
    "name": "ipython",
    "version": 3
   },
   "file_extension": ".py",
   "mimetype": "text/x-python",
   "name": "python",
   "nbconvert_exporter": "python",
   "pygments_lexer": "ipython3",
   "version": "3.12.2"
  }
 },
 "nbformat": 4,
 "nbformat_minor": 2
}
